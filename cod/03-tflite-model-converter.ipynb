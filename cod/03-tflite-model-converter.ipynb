{
 "cells": [
  {
   "cell_type": "code",
   "execution_count": 2,
   "metadata": {},
   "outputs": [],
   "source": [
    "from tensorflow import lite\n",
    "from tensorflow.keras import models\n",
    "#import librosa"
   ]
  },
  {
   "cell_type": "code",
   "execution_count": 3,
   "metadata": {},
   "outputs": [],
   "source": [
    "# Parameters\n",
    "keras_model_filename = 'SR_MODEL.h5'\n",
    "tflite_filename = 'saved_model_all.tflite'"
   ]
  },
  {
   "cell_type": "code",
   "execution_count": 4,
   "metadata": {},
   "outputs": [
    {
     "name": "stdout",
     "output_type": "stream",
     "text": [
      "INFO:tensorflow:Assets written to: C:\\Users\\radu2\\AppData\\Local\\Temp\\tmp9_4torde\\assets\n"
     ]
    },
    {
     "name": "stderr",
     "output_type": "stream",
     "text": [
      "WARNING:absl:Buffer deduplication procedure will be skipped when flatbuffer library is not properly loaded\n"
     ]
    },
    {
     "ename": "TypeError",
     "evalue": "EndVector() takes 1 positional argument but 2 were given",
     "output_type": "error",
     "traceback": [
      "\u001b[1;31m---------------------------------------------------------------------------\u001b[0m",
      "\u001b[1;31mTypeError\u001b[0m                                 Traceback (most recent call last)",
      "\u001b[1;32me:\\CorpusDeNumere\\Work\\Cod\\var1\\03-tflite-model-converter.ipynb Cell 3\u001b[0m in \u001b[0;36m<cell line: 4>\u001b[1;34m()\u001b[0m\n\u001b[0;32m      <a href='vscode-notebook-cell:/e%3A/CorpusDeNumere/Work/Cod/var1/03-tflite-model-converter.ipynb#W2sZmlsZQ%3D%3D?line=1'>2</a>\u001b[0m model \u001b[39m=\u001b[39m models\u001b[39m.\u001b[39mload_model(keras_model_filename)\n\u001b[0;32m      <a href='vscode-notebook-cell:/e%3A/CorpusDeNumere/Work/Cod/var1/03-tflite-model-converter.ipynb#W2sZmlsZQ%3D%3D?line=2'>3</a>\u001b[0m converter \u001b[39m=\u001b[39m lite\u001b[39m.\u001b[39mTFLiteConverter\u001b[39m.\u001b[39mfrom_keras_model(model)\n\u001b[1;32m----> <a href='vscode-notebook-cell:/e%3A/CorpusDeNumere/Work/Cod/var1/03-tflite-model-converter.ipynb#W2sZmlsZQ%3D%3D?line=3'>4</a>\u001b[0m tflite_model \u001b[39m=\u001b[39m converter\u001b[39m.\u001b[39;49mconvert()\n\u001b[0;32m      <a href='vscode-notebook-cell:/e%3A/CorpusDeNumere/Work/Cod/var1/03-tflite-model-converter.ipynb#W2sZmlsZQ%3D%3D?line=4'>5</a>\u001b[0m \u001b[39mopen\u001b[39m(tflite_filename, \u001b[39m'\u001b[39m\u001b[39mwb\u001b[39m\u001b[39m'\u001b[39m)\u001b[39m.\u001b[39mwrite(tflite_model)\n",
      "File \u001b[1;32mc:\\Users\\radu2\\anaconda3\\envs\\tf\\lib\\site-packages\\tensorflow\\lite\\python\\lite.py:929\u001b[0m, in \u001b[0;36m_export_metrics.<locals>.wrapper\u001b[1;34m(self, *args, **kwargs)\u001b[0m\n\u001b[0;32m    926\u001b[0m \u001b[39m@functools\u001b[39m\u001b[39m.\u001b[39mwraps(convert_func)\n\u001b[0;32m    927\u001b[0m \u001b[39mdef\u001b[39;00m \u001b[39mwrapper\u001b[39m(\u001b[39mself\u001b[39m, \u001b[39m*\u001b[39margs, \u001b[39m*\u001b[39m\u001b[39m*\u001b[39mkwargs):\n\u001b[0;32m    928\u001b[0m   \u001b[39m# pylint: disable=protected-access\u001b[39;00m\n\u001b[1;32m--> 929\u001b[0m   \u001b[39mreturn\u001b[39;00m \u001b[39mself\u001b[39m\u001b[39m.\u001b[39m_convert_and_export_metrics(convert_func, \u001b[39m*\u001b[39margs, \u001b[39m*\u001b[39m\u001b[39m*\u001b[39mkwargs)\n",
      "File \u001b[1;32mc:\\Users\\radu2\\anaconda3\\envs\\tf\\lib\\site-packages\\tensorflow\\lite\\python\\lite.py:921\u001b[0m, in \u001b[0;36mTFLiteConverterBase._convert_and_export_metrics\u001b[1;34m(self, convert_func, *args, **kwargs)\u001b[0m\n\u001b[0;32m    919\u001b[0m \u001b[39mif\u001b[39;00m \u001b[39mnot\u001b[39;00m \u001b[39mself\u001b[39m\u001b[39m.\u001b[39mexclude_conversion_metadata:\n\u001b[0;32m    920\u001b[0m   model_object \u001b[39m=\u001b[39m _populate_conversion_metadata(model_object, \u001b[39mself\u001b[39m\u001b[39m.\u001b[39m_metadata)\n\u001b[1;32m--> 921\u001b[0m \u001b[39mreturn\u001b[39;00m flatbuffer_utils\u001b[39m.\u001b[39;49mconvert_object_to_bytearray(model_object)\n",
      "File \u001b[1;32mc:\\Users\\radu2\\anaconda3\\envs\\tf\\lib\\site-packages\\tensorflow\\lite\\tools\\flatbuffer_utils.py:84\u001b[0m, in \u001b[0;36mconvert_object_to_bytearray\u001b[1;34m(model_object)\u001b[0m\n\u001b[0;32m     82\u001b[0m \u001b[39m# Initial size of the buffer, which will grow automatically if needed\u001b[39;00m\n\u001b[0;32m     83\u001b[0m builder \u001b[39m=\u001b[39m flatbuffers\u001b[39m.\u001b[39mBuilder(\u001b[39m1024\u001b[39m)\n\u001b[1;32m---> 84\u001b[0m model_offset \u001b[39m=\u001b[39m model_object\u001b[39m.\u001b[39;49mPack(builder)\n\u001b[0;32m     85\u001b[0m builder\u001b[39m.\u001b[39mFinish(model_offset, file_identifier\u001b[39m=\u001b[39m_TFLITE_FILE_IDENTIFIER)\n\u001b[0;32m     86\u001b[0m model_bytearray \u001b[39m=\u001b[39m \u001b[39mbytes\u001b[39m(builder\u001b[39m.\u001b[39mOutput())\n",
      "File \u001b[1;32mc:\\Users\\radu2\\anaconda3\\envs\\tf\\lib\\site-packages\\tensorflow\\lite\\python\\schema_py_generated.py:5951\u001b[0m, in \u001b[0;36mModelT.Pack\u001b[1;34m(self, builder)\u001b[0m\n\u001b[0;32m   5949\u001b[0m     \u001b[39mfor\u001b[39;00m i \u001b[39min\u001b[39;00m \u001b[39mreversed\u001b[39m(\u001b[39mrange\u001b[39m(\u001b[39mlen\u001b[39m(\u001b[39mself\u001b[39m\u001b[39m.\u001b[39moperatorCodes))):\n\u001b[0;32m   5950\u001b[0m         builder\u001b[39m.\u001b[39mPrependUOffsetTRelative(operatorCodeslist[i])\n\u001b[1;32m-> 5951\u001b[0m     operatorCodes \u001b[39m=\u001b[39m builder\u001b[39m.\u001b[39;49mEndVector(\u001b[39mlen\u001b[39;49m(\u001b[39mself\u001b[39;49m\u001b[39m.\u001b[39;49moperatorCodes))\n\u001b[0;32m   5952\u001b[0m \u001b[39mif\u001b[39;00m \u001b[39mself\u001b[39m\u001b[39m.\u001b[39msubgraphs \u001b[39mis\u001b[39;00m \u001b[39mnot\u001b[39;00m \u001b[39mNone\u001b[39;00m:\n\u001b[0;32m   5953\u001b[0m     subgraphslist \u001b[39m=\u001b[39m []\n",
      "\u001b[1;31mTypeError\u001b[0m: EndVector() takes 1 positional argument but 2 were given"
     ]
    }
   ],
   "source": [
    "# Convert model to TF Lite model\n",
    "model = models.load_model(keras_model_filename)\n",
    "converter = lite.TFLiteConverter.from_keras_model(model)\n",
    "tflite_model = converter.convert()\n",
    "open(tflite_filename, 'wb').write(tflite_model)"
   ]
  },
  {
   "cell_type": "code",
   "execution_count": null,
   "metadata": {},
   "outputs": [],
   "source": []
  }
 ],
 "metadata": {
  "kernelspec": {
   "display_name": "Python 3.9.13 ('tf')",
   "language": "python",
   "name": "python3"
  },
  "language_info": {
   "codemirror_mode": {
    "name": "ipython",
    "version": 3
   },
   "file_extension": ".py",
   "mimetype": "text/x-python",
   "name": "python",
   "nbconvert_exporter": "python",
   "pygments_lexer": "ipython3",
   "version": "3.9.13"
  },
  "vscode": {
   "interpreter": {
    "hash": "430d7ccef8573248313d9408912979d4957eea74b3f4917afd6270072b721043"
   }
  }
 },
 "nbformat": 4,
 "nbformat_minor": 2
}
